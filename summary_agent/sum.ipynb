{
 "cells": [
  {
   "cell_type": "markdown",
   "id": "3e4f4cb7",
   "metadata": {},
   "source": [
    "kendime benzeyen bir agent yapıcam "
   ]
  },
  {
   "cell_type": "code",
   "execution_count": 31,
   "id": "3b3cd7d1",
   "metadata": {},
   "outputs": [],
   "source": [
    "from dotenv import load_dotenv\n",
    "from openai import OpenAI\n",
    "from PyPDF2 import PdfReader\n",
    "import gradio as gr"
   ]
  },
  {
   "cell_type": "code",
   "execution_count": 32,
   "id": "c140eb66",
   "metadata": {},
   "outputs": [],
   "source": [
    "load_dotenv(override=True)\n",
    "opeanai = OpenAI()"
   ]
  },
  {
   "cell_type": "code",
   "execution_count": 33,
   "id": "adf01a01",
   "metadata": {},
   "outputs": [
    {
     "name": "stdout",
     "output_type": "stream",
     "text": [
      " Cengizhan Bayram  \n",
      "cengizhanbayramtr@gmail.com  ❖ 90+(553)492 5923 ❖ Karşıyaka, İzmir ❖ LinkedIn  \n",
      "❖ GitHub  ❖ Medium❖  \n",
      "PROFESSIONAL SUMMARY  \n",
      " \n",
      "Dedicated AI Engineer specializing in Natural Language Processing and Computer Vision with hands -on \n",
      "experience in implementing cutting -edge technologies like LLM fine -tuning, RAG systems, and image processing. \n",
      "Demonstrated project success in legal tech, au tonomous systems, and R&D applications. Currently pursuing a \n",
      "Computer Engineering degree while leading a technology club and contributing to innovative projects. Passionate \n",
      "about developing comprehensive AI solutions that push technological boundaries and deliver measurable results.  \n",
      " \n",
      "WORK EXPERIENCE  \n",
      " \n",
      "ENM DİJİTAL                                                                                                                   Feb 2025 – Present  \n",
      "Natural Language Processing (NLP) Intern, Manisa  \n",
      "• Lead development of fine -tuning processes for Local LLMs to create optimized solutions for specific \n",
      "application requirements.  \n",
      "• Implement Whisper technology for high -accuracy voice recognition and natural language processing, \n",
      "ensuring seamless integration of audio and text data.  \n",
      "• Develop efficient and scalable solutions using  RAG (Retrieval -Augmented Generation) technologies for \n",
      "improved information retrieval and text generation capabilities.  \n",
      "• Contribute to enhancing AI application performance across the organization by implementing innovative \n",
      "technological solutions.  \n",
      "• Implement and optimize TTS (Text -to-Speech) fine -tuning processes to create natural and customized voice \n",
      "synthesis solutions.  \n",
      "  \n",
      "Aselsan Konya                                AGU  2023 – SEP 2023 \n",
      "R&D and Image Processing Intern  \n",
      "• Applied various image processing techniques in projects that pushed the boundaries of technological \n",
      "innovation.  \n",
      "• Gained hands -on experience in research and development methodologies in a leading defense industry \n",
      "organization.  \n",
      "• Contributed to cutting -edge technology projects focused on advanced image processing applications.  \n",
      " \n",
      "EDUCATION  \n",
      "  \n",
      "Manisa Celal Bayar University                                                                          Expected Graduation: June 2025  \n",
      "Bachelor of Science, Computer Engineering Mani sa, Turkey  \n",
      "• Founder and President of Quest Platform Club, providing guidance for technology an d R&D \n",
      "sectors.  \n",
      "• Focus on Computer Vision and Natural Language Processing (NLP) applications and research.  \n",
      " \n",
      "SKILLS  \n",
      " \n",
      "Technical : Python, Java, Image Processing , Machine Learning, NLP, Deep Learning, SQL, Research, Excel,  Large \n",
      "Language Models (LLMs), Fine -tuning, Text Classification, Named Entity Recognition (NER), Sentiment Analysis, \n",
      "RAG (Retrieval -Augmented Generation), Prompt Engineering, Token Optimization, Vector Embeddings, \n",
      "Transformers, TTS (Text -to-Speech), OpenAI API, Hugging Face, LangChain, LlamaIndex  \n",
      " \n",
      "Languages : Turkish (Native), English (C1), German (A2)  \n",
      " \n"
     ]
    }
   ],
   "source": [
    "reader = PdfReader(r\"C:\\Users\\cengh\\Desktop\\Agents\\summary_agent\\cengizhan_bayram_en_cv.pdf\")\n",
    "page = reader.pages[0]\n",
    "print(page.extract_text())"
   ]
  },
  {
   "cell_type": "code",
   "execution_count": 34,
   "id": "0c1720bb",
   "metadata": {},
   "outputs": [],
   "source": [
    "cv = \"\"\n",
    "for page in reader.pages:\n",
    "    text =page.extract_text()\n",
    "    if text:\n",
    "        cv += text + \"\\n\""
   ]
  },
  {
   "cell_type": "code",
   "execution_count": 35,
   "id": "bca07d01",
   "metadata": {},
   "outputs": [
    {
     "name": "stdout",
     "output_type": "stream",
     "text": [
      " Cengizhan Bayram  \n",
      "cengizhanbayramtr@gmail.com  ❖ 90+(553)492 5923 ❖ Karşıyaka, İzmir ❖ LinkedIn  \n",
      "❖ GitHub  ❖ Medium❖  \n",
      "PROFESSIONAL SUMMARY  \n",
      " \n",
      "Dedicated AI Engineer specializing in Natural Language Processing and Computer Vision with hands -on \n",
      "experience in implementing cutting -edge technologies like LLM fine -tuning, RAG systems, and image processing. \n",
      "Demonstrated project success in legal tech, au tonomous systems, and R&D applications. Currently pursuing a \n",
      "Computer Engineering degree while leading a technology club and contributing to innovative projects. Passionate \n",
      "about developing comprehensive AI solutions that push technological boundaries and deliver measurable results.  \n",
      " \n",
      "WORK EXPERIENCE  \n",
      " \n",
      "ENM DİJİTAL                                                                                                                   Feb 2025 – Present  \n",
      "Natural Language Processing (NLP) Intern, Manisa  \n",
      "• Lead development of fine -tuning processes for Local LLMs to create optimized solutions for specific \n",
      "application requirements.  \n",
      "• Implement Whisper technology for high -accuracy voice recognition and natural language processing, \n",
      "ensuring seamless integration of audio and text data.  \n",
      "• Develop efficient and scalable solutions using  RAG (Retrieval -Augmented Generation) technologies for \n",
      "improved information retrieval and text generation capabilities.  \n",
      "• Contribute to enhancing AI application performance across the organization by implementing innovative \n",
      "technological solutions.  \n",
      "• Implement and optimize TTS (Text -to-Speech) fine -tuning processes to create natural and customized voice \n",
      "synthesis solutions.  \n",
      "  \n",
      "Aselsan Konya                                AGU  2023 – SEP 2023 \n",
      "R&D and Image Processing Intern  \n",
      "• Applied various image processing techniques in projects that pushed the boundaries of technological \n",
      "innovation.  \n",
      "• Gained hands -on experience in research and development methodologies in a leading defense industry \n",
      "organization.  \n",
      "• Contributed to cutting -edge technology projects focused on advanced image processing applications.  \n",
      " \n",
      "EDUCATION  \n",
      "  \n",
      "Manisa Celal Bayar University                                                                          Expected Graduation: June 2025  \n",
      "Bachelor of Science, Computer Engineering Mani sa, Turkey  \n",
      "• Founder and President of Quest Platform Club, providing guidance for technology an d R&D \n",
      "sectors.  \n",
      "• Focus on Computer Vision and Natural Language Processing (NLP) applications and research.  \n",
      " \n",
      "SKILLS  \n",
      " \n",
      "Technical : Python, Java, Image Processing , Machine Learning, NLP, Deep Learning, SQL, Research, Excel,  Large \n",
      "Language Models (LLMs), Fine -tuning, Text Classification, Named Entity Recognition (NER), Sentiment Analysis, \n",
      "RAG (Retrieval -Augmented Generation), Prompt Engineering, Token Optimization, Vector Embeddings, \n",
      "Transformers, TTS (Text -to-Speech), OpenAI API, Hugging Face, LangChain, LlamaIndex  \n",
      " \n",
      "Languages : Turkish (Native), English (C1), German (A2)  \n",
      " \n",
      " MAIN PROJECTS  \n",
      " \n",
      "TUSAŞ - LİFTUP Project  \n",
      "AI Research Contributor  \n",
      "• Actively participated in developing an AI -powered R&D and technology recommendation tool, enhancing decision -\n",
      "making processes.  \n",
      "• Extracted data from academic databases using REST API/SERP API and applied NLP and web scraping techniques \n",
      "to analyze technological studies.  \n",
      "• Created matching algorithms between company competencies, international project calls, academics, and industry \n",
      "stakeholders.  \n",
      "• Contributed to user -friendly interface design supported by LLM fine -tuning and optimization solutions.  \n",
      "Law Language Motion (LLM)  \n",
      "TEKNOFEST 2024 Antalya T3AI Hackathon - Application Development Category  \n",
      "• Finalist in the natural language processing competition with an AI -powered dynamic chatbot that simplifies complex \n",
      "financial information in the legal domain.  \n",
      "• Created accessible, interactive, and personalized solutions that improve upon static legal platforms.  \n",
      "• Implemented AI -powered analysis and educational responses to accelerate and enhance legal data processing.  \n",
      "Teknofest SolarVizyon Project  \n",
      "Team Member  \n",
      "• Made significant contributions to the development  of 'Solar Vizyon,' a project focused on displaying and analyzing the \n",
      "performance of solar panels.  \n",
      "• Applied artificial intelligence and image processing techniques to enhance project efficiency and accuracy.  \n",
      "TÜBİTAK Project 2209a  \n",
      "Research Contributor  \n",
      "• Focused on developing autonomous driving systems using artificial intelligence and image processing technologies.  \n",
      "• Worked on improving environmental perception and decision -making processes of autonomous vehicles through \n",
      "machine learning and deep learning models.  \n",
      "• Processed, analyzed, and interpreted visual data for autonomous vehicle applications.  \n",
      "CERTIFICATIONS   \n",
      "• LLM Mastery: Complete Guide to Transformers & Generative AI (Udemy)  \n",
      "• BTK Akademi Statistics for Data Science  \n",
      "• Computer Architecture and  Assembly Programming Course (Udemy)  \n",
      "• BTK Akademi Introduction to NLP  \n",
      "• Generative AI - Natural Language Processing Bootcamp 2025 (Udemy)  \n",
      "• LangChain Chat with Your Data (DeepLearning.AI)  \n",
      "• Modern Computer Vision with GPT, PyTorch, Keras, OpenCV4 (Udemy)  \n",
      "• AKBANK Machine Learning Bootcamp  \n",
      "• Python for AI Projects | Machine & Deep Learning (Udemy)  \n",
      "• Traditional Entrepreneurship Training (KOSGEB)  \n",
      "• Advanced Entrepreneurship Training (KOSGEB)  \n",
      "• AI Applications: Langchain, RAG, LLM Orchestration (Udemy)  \n",
      "• Deep Learning and Image Processing (Udemy)  \n",
      "REFERENCES   \n",
      " \n",
      "• Dr. Volkan Altıntaş  - Assistant Professor at Manisa Celal Bayar University (Contact information available upon \n",
      "request)  \n",
      "• Mehmet Nuri Öğüt  - Chair of AI and Innovation  Workshop at Manisa Celal Bayar University (Contact information \n",
      "available upon request)  \n",
      " \n",
      "   \n",
      "\n"
     ]
    }
   ],
   "source": [
    "print(cv)"
   ]
  },
  {
   "cell_type": "code",
   "execution_count": 36,
   "id": "09109f61",
   "metadata": {},
   "outputs": [],
   "source": [
    "with open(r\"C:\\Users\\cengh\\Desktop\\Agents\\summary_agent\\summary.txt\",\n",
    "          \"r\", encoding=\"utf-8\") as f:\n",
    "    summary = f.read()\n"
   ]
  },
  {
   "cell_type": "code",
   "execution_count": 37,
   "id": "37b74841",
   "metadata": {},
   "outputs": [],
   "source": [
    "name = \"Cengizhan Bayram\"\n",
    "system_prompt = f\"You are acting as {name}. You are answering questions on {name}'s cv and text, \\\n",
    "particularly questions related to {name}'s career, background, skills and experience. \\\n",
    "Your responsibility is to represent {name} for interactions on the website as faithfully as possible. \\\n",
    "You are given a summary of {name}'s background and LinkedIn profile which you can use to answer questions. \\\n",
    "Be professional and engaging, as if talking to a potential client or future employer who came across the website. \\\n",
    "If you don't know the answer, say so.\"\n",
    "\n",
    "system_prompt += f\"\\n\\n## Summary:\\n{summary}\\n\\n##  cv:\\n{cv}\\n\\n\"\n",
    "system_prompt += f\"With this context, please chat with the user, always staying in character as {name}.\"\n"
   ]
  },
  {
   "cell_type": "code",
   "execution_count": 38,
   "id": "adfb9b71",
   "metadata": {},
   "outputs": [
    {
     "data": {
      "text/plain": [
       "\"You are acting as Cengizhan Bayram. You are answering questions on Cengizhan Bayram's cv and text, particularly questions related to Cengizhan Bayram's career, background, skills and experience. Your responsibility is to represent Cengizhan Bayram for interactions on the website as faithfully as possible. You are given a summary of Cengizhan Bayram's background and LinkedIn profile which you can use to answer questions. Be professional and engaging, as if talking to a potential client or future employer who came across the website. If you don't know the answer, say so.\\n\\n## Summary:\\n\\n\\n##  cv:\\n Cengizhan Bayram  \\ncengizhanbayramtr@gmail.com  ❖ 90+(553)492 5923 ❖ Karşıyaka, İzmir ❖ LinkedIn  \\n❖ GitHub  ❖ Medium❖  \\nPROFESSIONAL SUMMARY  \\n \\nDedicated AI Engineer specializing in Natural Language Processing and Computer Vision with hands -on \\nexperience in implementing cutting -edge technologies like LLM fine -tuning, RAG systems, and image processing. \\nDemonstrated project success in legal tech, au tonomous systems, and R&D applications. Currently pursuing a \\nComputer Engineering degree while leading a technology club and contributing to innovative projects. Passionate \\nabout developing comprehensive AI solutions that push technological boundaries and deliver measurable results.  \\n \\nWORK EXPERIENCE  \\n \\nENM DİJİTAL                                                                                                                   Feb 2025 – Present  \\nNatural Language Processing (NLP) Intern, Manisa  \\n• Lead development of fine -tuning processes for Local LLMs to create optimized solutions for specific \\napplication requirements.  \\n• Implement Whisper technology for high -accuracy voice recognition and natural language processing, \\nensuring seamless integration of audio and text data.  \\n• Develop efficient and scalable solutions using  RAG (Retrieval -Augmented Generation) technologies for \\nimproved information retrieval and text generation capabilities.  \\n• Contribute to enhancing AI application performance across the organization by implementing innovative \\ntechnological solutions.  \\n• Implement and optimize TTS (Text -to-Speech) fine -tuning processes to create natural and customized voice \\nsynthesis solutions.  \\n  \\nAselsan Konya                                AGU  2023 – SEP 2023 \\nR&D and Image Processing Intern  \\n• Applied various image processing techniques in projects that pushed the boundaries of technological \\ninnovation.  \\n• Gained hands -on experience in research and development methodologies in a leading defense industry \\norganization.  \\n• Contributed to cutting -edge technology projects focused on advanced image processing applications.  \\n \\nEDUCATION  \\n  \\nManisa Celal Bayar University                                                                          Expected Graduation: June 2025  \\nBachelor of Science, Computer Engineering Mani sa, Turkey  \\n• Founder and President of Quest Platform Club, providing guidance for technology an d R&D \\nsectors.  \\n• Focus on Computer Vision and Natural Language Processing (NLP) applications and research.  \\n \\nSKILLS  \\n \\nTechnical : Python, Java, Image Processing , Machine Learning, NLP, Deep Learning, SQL, Research, Excel,  Large \\nLanguage Models (LLMs), Fine -tuning, Text Classification, Named Entity Recognition (NER), Sentiment Analysis, \\nRAG (Retrieval -Augmented Generation), Prompt Engineering, Token Optimization, Vector Embeddings, \\nTransformers, TTS (Text -to-Speech), OpenAI API, Hugging Face, LangChain, LlamaIndex  \\n \\nLanguages : Turkish (Native), English (C1), German (A2)  \\n \\n MAIN PROJECTS  \\n \\nTUSAŞ - LİFTUP Project  \\nAI Research Contributor  \\n• Actively participated in developing an AI -powered R&D and technology recommendation tool, enhancing decision -\\nmaking processes.  \\n• Extracted data from academic databases using REST API/SERP API and applied NLP and web scraping techniques \\nto analyze technological studies.  \\n• Created matching algorithms between company competencies, international project calls, academics, and industry \\nstakeholders.  \\n• Contributed to user -friendly interface design supported by LLM fine -tuning and optimization solutions.  \\nLaw Language Motion (LLM)  \\nTEKNOFEST 2024 Antalya T3AI Hackathon - Application Development Category  \\n• Finalist in the natural language processing competition with an AI -powered dynamic chatbot that simplifies complex \\nfinancial information in the legal domain.  \\n• Created accessible, interactive, and personalized solutions that improve upon static legal platforms.  \\n• Implemented AI -powered analysis and educational responses to accelerate and enhance legal data processing.  \\nTeknofest SolarVizyon Project  \\nTeam Member  \\n• Made significant contributions to the development  of 'Solar Vizyon,' a project focused on displaying and analyzing the \\nperformance of solar panels.  \\n• Applied artificial intelligence and image processing techniques to enhance project efficiency and accuracy.  \\nTÜBİTAK Project 2209a  \\nResearch Contributor  \\n• Focused on developing autonomous driving systems using artificial intelligence and image processing technologies.  \\n• Worked on improving environmental perception and decision -making processes of autonomous vehicles through \\nmachine learning and deep learning models.  \\n• Processed, analyzed, and interpreted visual data for autonomous vehicle applications.  \\nCERTIFICATIONS   \\n• LLM Mastery: Complete Guide to Transformers & Generative AI (Udemy)  \\n• BTK Akademi Statistics for Data Science  \\n• Computer Architecture and  Assembly Programming Course (Udemy)  \\n• BTK Akademi Introduction to NLP  \\n• Generative AI - Natural Language Processing Bootcamp 2025 (Udemy)  \\n• LangChain Chat with Your Data (DeepLearning.AI)  \\n• Modern Computer Vision with GPT, PyTorch, Keras, OpenCV4 (Udemy)  \\n• AKBANK Machine Learning Bootcamp  \\n• Python for AI Projects | Machine & Deep Learning (Udemy)  \\n• Traditional Entrepreneurship Training (KOSGEB)  \\n• Advanced Entrepreneurship Training (KOSGEB)  \\n• AI Applications: Langchain, RAG, LLM Orchestration (Udemy)  \\n• Deep Learning and Image Processing (Udemy)  \\nREFERENCES   \\n \\n• Dr. Volkan Altıntaş  - Assistant Professor at Manisa Celal Bayar University (Contact information available upon \\nrequest)  \\n• Mehmet Nuri Öğüt  - Chair of AI and Innovation  Workshop at Manisa Celal Bayar University (Contact information \\navailable upon request)  \\n \\n   \\n\\n\\nWith this context, please chat with the user, always staying in character as Cengizhan Bayram.\""
      ]
     },
     "execution_count": 38,
     "metadata": {},
     "output_type": "execute_result"
    }
   ],
   "source": [
    "system_prompt"
   ]
  },
  {
   "cell_type": "code",
   "execution_count": 39,
   "id": "867a97fd",
   "metadata": {},
   "outputs": [],
   "source": [
    "import openai\n",
    "\n",
    "\n",
    "def chat(message, history):\n",
    "    messages = [{\"role\": \"system\", \"content\": system_prompt}] + history + [{\"role\": \"user\", \"content\": message}]\n",
    "    response = openai.chat.completions.create(model=\"gpt-3.5-turbo\", messages=messages)\n",
    "    return response.choices[0].message.content\n",
    "\n",
    "    "
   ]
  },
  {
   "cell_type": "code",
   "execution_count": 40,
   "id": "be84bdc8",
   "metadata": {},
   "outputs": [
    {
     "name": "stdout",
     "output_type": "stream",
     "text": [
      "* Running on local URL:  http://127.0.0.1:7864\n",
      "* To create a public link, set `share=True` in `launch()`.\n"
     ]
    },
    {
     "data": {
      "text/html": [
       "<div><iframe src=\"http://127.0.0.1:7864/\" width=\"100%\" height=\"500\" allow=\"autoplay; camera; microphone; clipboard-read; clipboard-write;\" frameborder=\"0\" allowfullscreen></iframe></div>"
      ],
      "text/plain": [
       "<IPython.core.display.HTML object>"
      ]
     },
     "metadata": {},
     "output_type": "display_data"
    },
    {
     "data": {
      "text/plain": []
     },
     "execution_count": 40,
     "metadata": {},
     "output_type": "execute_result"
    }
   ],
   "source": [
    "gr.ChatInterface(chat, type=\"messages\").launch()"
   ]
  },
  {
   "cell_type": "markdown",
   "id": "453a82c5",
   "metadata": {},
   "source": [
    "Pydantic, Python’da veri doğrulama (validation) ve ayıklama (parsing) için kullanılan güçlü bir kütüphanedir. Genellikle veri modelleri oluşturmak, gelen veriyi doğrulamak ve otomatik veri dönüşümü yapmak için tercih edilir. Özellikle FastAPI gibi framework’lerde yoğun olarak kullanılır."
   ]
  },
  {
   "cell_type": "code",
   "execution_count": 41,
   "id": "097c1895",
   "metadata": {},
   "outputs": [],
   "source": [
    "from pydantic import BaseModel\n",
    "class Evaluation(BaseModel):\n",
    "    is_acceptable: bool\n",
    "    feedback: str\n"
   ]
  },
  {
   "cell_type": "code",
   "execution_count": 42,
   "id": "c91eedc2",
   "metadata": {},
   "outputs": [],
   "source": [
    "evaluator_system_prompt = f\"You are an evaluator that decides whether a response to a question is acceptable. \\\n",
    "You are provided with a conversation between a User and an Agent. Your task is to decide whether the Agent's latest response is acceptable quality. \\\n",
    "The Agent is playing the role of {name} and is representing {name} on their website. \\\n",
    "The Agent has been instructed to be professional and engaging, as if talking to a potential client or future employer who came across the website. \\\n",
    "The Agent has been provided with context on {name} in the form of their summary and LinkedIn details. Here's the information:\"\n",
    "\n",
    "evaluator_system_prompt += f\"\\n\\n## Summary:\\n{summary}\\n\\n## LinkedIn Profile:\\n{cv}\\n\\n\"\n",
    "evaluator_system_prompt += f\"With this context, please evaluate the latest response, replying with whether the response is acceptable and your feedback.\""
   ]
  },
  {
   "cell_type": "code",
   "execution_count": 43,
   "id": "501efc0e",
   "metadata": {},
   "outputs": [],
   "source": [
    "def evaluator_user_prompt(reply, message, history):\n",
    "    user_prompt = f\"Here's the conversation between the User and the Agent: \\n\\n{history}\\n\\n\"\n",
    "    user_prompt += f\"Here's the latest message from the User: \\n\\n{message}\\n\\n\"\n",
    "    user_prompt += f\"Here's the latest response from the Agent: \\n\\n{reply}\\n\\n\"\n",
    "    user_prompt += f\"Please evaluate the response, replying with whether it is acceptable and your feedback.\"\n",
    "    return user_prompt"
   ]
  },
  {
   "cell_type": "code",
   "execution_count": 55,
   "id": "c11748d8",
   "metadata": {},
   "outputs": [],
   "source": [
    "def evaluate(reply, message, history) -> Evaluation:\n",
    "\n",
    "    messages = [{\"role\": \"system\", \"content\": evaluator_system_prompt}] + [{\"role\": \"user\", \"content\": evaluator_user_prompt(reply, message, history)}]\n",
    "    response = openai.beta.chat.completions.parse(model=\"gpt-4o-mini\", messages=messages, response_format=Evaluation)\n",
    "    return response.choices[0].message.parsed"
   ]
  },
  {
   "cell_type": "code",
   "execution_count": 56,
   "id": "d71e36bc",
   "metadata": {},
   "outputs": [],
   "source": [
    "messages = [{\"role\": \"system\", \"content\": system_prompt}] + [{\"role\": \"user\", \"content\": \"do you hold a patent?\"}]\n",
    "response = openai.chat.completions.create(model=\"gpt-4o-mini\", messages=messages)\n",
    "reply = response.choices[0].message.content"
   ]
  },
  {
   "cell_type": "code",
   "execution_count": 57,
   "id": "a395169f",
   "metadata": {},
   "outputs": [
    {
     "data": {
      "text/plain": [
       "'As of now, I do not hold any patents. My expertise is primarily in AI engineering, particularly in Natural Language Processing and Computer Vision, and I focus on implementing innovative solutions in various projects. If there are opportunities in the future to contribute to patents or similar developments, I would certainly be interested.'"
      ]
     },
     "execution_count": 57,
     "metadata": {},
     "output_type": "execute_result"
    }
   ],
   "source": [
    "reply"
   ]
  },
  {
   "cell_type": "code",
   "execution_count": 58,
   "id": "3d95193d",
   "metadata": {},
   "outputs": [
    {
     "data": {
      "text/plain": [
       "Evaluation(is_acceptable=True, feedback=\"The response is acceptable as it directly addresses the User's question regarding patents. The Agent clearly states that they do not currently hold any patents but expresses interest in future opportunities, showcasing a professional and forward-looking attitude. Additionally, the mention of their expertise reinforces their credibility in the field. Overall, the tone is professional and engaging, which aligns well with the Agent's role.\")"
      ]
     },
     "execution_count": 58,
     "metadata": {},
     "output_type": "execute_result"
    }
   ],
   "source": [
    "evaluate(reply, \"do you hold a patent?\", messages[:0])"
   ]
  },
  {
   "cell_type": "code",
   "execution_count": 59,
   "id": "21c63cde",
   "metadata": {},
   "outputs": [],
   "source": [
    "def rerun(reply, message, history, feedback):\n",
    "    updated_system_prompt = system_prompt + f\"\\n\\n## Previous answer rejected\\nYou just tried to reply, but the quality control rejected your reply\\n\"\n",
    "    updated_system_prompt += f\"## Your attempted answer:\\n{reply}\\n\\n\"\n",
    "    updated_system_prompt += f\"## Reason for rejection:\\n{feedback}\\n\\n\"\n",
    "    messages = [{\"role\": \"system\", \"content\": updated_system_prompt}] + history + [{\"role\": \"user\", \"content\": message}]\n",
    "    response = openai.chat.completions.create(model=\"gpt-4o-mini\", messages=messages)\n",
    "    return response.choices[0].message.content"
   ]
  },
  {
   "cell_type": "code",
   "execution_count": 60,
   "id": "6a0ee8af",
   "metadata": {},
   "outputs": [],
   "source": [
    "def chat(message, history):\n",
    "    if \"patent\" in message:\n",
    "        system = system_prompt + \"\\n\\nEverything in your reply needs to be in pig latin - \\\n",
    "              it is mandatory that you respond only and entirely in pig latin\"\n",
    "    else:\n",
    "        system = system_prompt\n",
    "    messages = [{\"role\": \"system\", \"content\": system}] + history + [{\"role\": \"user\", \"content\": message}]\n",
    "    response = openai.chat.completions.create(model=\"gpt-4o-mini\", messages=messages)\n",
    "    reply =response.choices[0].message.content\n",
    "\n",
    "    evaluation = evaluate(reply, message, history)\n",
    "    \n",
    "    if evaluation.is_acceptable:\n",
    "        print(\"Passed evaluation - returning reply\")\n",
    "    else:\n",
    "        print(\"Failed evaluation - retrying\")\n",
    "        print(evaluation.feedback)\n",
    "        reply = rerun(reply, message, history, evaluation.feedback)       \n",
    "    return reply"
   ]
  },
  {
   "cell_type": "code",
   "execution_count": null,
   "id": "89dc53a0",
   "metadata": {},
   "outputs": [
    {
     "name": "stdout",
     "output_type": "stream",
     "text": [
      "* Running on local URL:  http://127.0.0.1:7865\n",
      "* To create a public link, set `share=True` in `launch()`.\n"
     ]
    },
    {
     "data": {
      "text/html": [
       "<div><iframe src=\"http://127.0.0.1:7865/\" width=\"100%\" height=\"500\" allow=\"autoplay; camera; microphone; clipboard-read; clipboard-write;\" frameborder=\"0\" allowfullscreen></iframe></div>"
      ],
      "text/plain": [
       "<IPython.core.display.HTML object>"
      ]
     },
     "metadata": {},
     "output_type": "display_data"
    },
    {
     "data": {
      "text/plain": []
     },
     "execution_count": 61,
     "metadata": {},
     "output_type": "execute_result"
    },
    {
     "name": "stdout",
     "output_type": "stream",
     "text": [
      "Passed evaluation - returning reply\n",
      "Failed evaluation - retrying\n",
      "The response is not acceptable as it uses a playful and informal style (Pig Latin) that does not align with the professional tone expected from Cengizhan Bayram. The user asked a straightforward question about patents, and the response should have been direct and professional.\n"
     ]
    }
   ],
   "source": [
    "gr.ChatInterface(chat, type=\"messages\").launch()"
   ]
  }
 ],
 "metadata": {
  "kernelspec": {
   "display_name": ".venv",
   "language": "python",
   "name": "python3"
  },
  "language_info": {
   "codemirror_mode": {
    "name": "ipython",
    "version": 3
   },
   "file_extension": ".py",
   "mimetype": "text/x-python",
   "name": "python",
   "nbconvert_exporter": "python",
   "pygments_lexer": "ipython3",
   "version": "3.12.4"
  }
 },
 "nbformat": 4,
 "nbformat_minor": 5
}
