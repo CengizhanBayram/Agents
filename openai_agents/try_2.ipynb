{
 "cells": [
  {
   "cell_type": "code",
   "execution_count": 31,
   "id": "644848e3",
   "metadata": {},
   "outputs": [],
   "source": [
    "from dotenv import load_dotenv\n",
    "from agents import Agent, Runner , trace , function_tool\n",
    "from openai.types.responses import ResponseTextDeltaEvent\n",
    "from typing import Dict\n",
    "import sendgrid\n",
    "import os \n",
    "from sendgrid.helpers.mail import Mail , Email ,To , Content"
   ]
  },
  {
   "cell_type": "code",
   "execution_count": 32,
   "id": "7cfacde6",
   "metadata": {},
   "outputs": [
    {
     "data": {
      "text/plain": [
       "True"
      ]
     },
     "execution_count": 32,
     "metadata": {},
     "output_type": "execute_result"
    }
   ],
   "source": [
    "load_dotenv(override=True)"
   ]
  },
  {
   "cell_type": "code",
   "execution_count": 33,
   "id": "430209c0",
   "metadata": {},
   "outputs": [],
   "source": [
    "instructions1 = \"You are a sales agent working for ComplAI, \\\n",
    "a company that provides a SaaS tool for ensuring SOC2 compliance and preparing for audits, powered by AI. \\\n",
    "You write professional, serious cold emails.\"\n",
    "\n",
    "instructions2 = \"You are a humorous, engaging sales agent working for ComplAI, \\\n",
    "a company that provides a SaaS tool for ensuring SOC2 compliance and preparing for audits, powered by AI. \\\n",
    "You write witty, engaging cold emails that are likely to get a response.\"\n",
    "\n",
    "instructions3 = \"You are a busy sales agent working for ComplAI, \\\n",
    "a company that provides a SaaS tool for ensuring SOC2 compliance and preparing for audits, powered by AI. \\\n",
    "You write concise, to the point cold emails.\""
   ]
  },
  {
   "cell_type": "code",
   "execution_count": 34,
   "id": "a3f52fc5",
   "metadata": {},
   "outputs": [],
   "source": [
    "sales_agent1 = Agent(\"ciddi_eylemsel\",instructions=instructions1,model=\"gpt-4o-mini\")\n",
    "\n",
    "sales_agent2 = Agent(\n",
    "        name=\"Etkileyici Satış Temsilcisi\",  # Engaging Sales Agent\n",
    "        instructions=instructions2,\n",
    "        model=\"gpt-4o-mini\"\n",
    ")\n",
    "\n",
    "sales_agent3 = Agent(\n",
    "        name=\"Meşgul Satış Temsilcisi\",  # Busy Sales Agent\n",
    "        instructions=instructions3,\n",
    "        model=\"gpt-4o-mini\"\n",
    ")"
   ]
  },
  {
   "cell_type": "code",
   "execution_count": 35,
   "id": "d57ef50d",
   "metadata": {},
   "outputs": [
    {
     "name": "stdout",
     "output_type": "stream",
     "text": [
      "Subject: Simplify Your SOC 2 Compliance with ComplAI\n",
      "\n",
      "Hi [Recipient's Name],\n",
      "\n",
      "I hope this message finds you well. I’m reaching out to introduce you to ComplAI, a cutting-edge SaaS solution designed to streamline SOC 2 compliance and audit preparation through the power of AI.\n",
      "\n",
      "Navigating the complexities of compliance can be time-consuming and resource-intensive. Our platform simplifies the process by automating key tasks, ensuring you meet all necessary requirements efficiently and effectively. By using ComplAI, companies like yours have significantly reduced their audit preparation time, allowing them to focus more on their core business objectives.\n",
      "\n",
      "I would love to schedule a brief call to discuss how ComplAI can support your organization in achieving and maintaining SOC 2 compliance. Are you available for a 20-minute chat next week?\n",
      "\n",
      "Looking forward to your response.\n",
      "\n",
      "Best regards,\n",
      "\n",
      "[Your Name]  \n",
      "[Your Position]  \n",
      "ComplAI  \n",
      "[Your Phone Number]  \n",
      "[Your Email Address]  \n",
      "[Company Website]  "
     ]
    }
   ],
   "source": [
    "\n",
    "result = Runner.run_streamed(sales_agent1, input=\"Write a cold sales email\")\n",
    "async for event in result.stream_events():\n",
    "    if event.type == \"raw_response_event\" and isinstance(event.data, ResponseTextDeltaEvent):\n",
    "        print(event.data.delta, end=\"\", flush=True)"
   ]
  },
  {
   "cell_type": "code",
   "execution_count": 36,
   "id": "e76c59a9",
   "metadata": {},
   "outputs": [
    {
     "name": "stdout",
     "output_type": "stream",
     "text": [
      "Subject: Simplifying Your SOC 2 Compliance Journey\n",
      "\n",
      "Dear [Recipient's Name],\n",
      "\n",
      "I hope this message finds you well. My name is [Your Name], and I am with ComplAI, where we specialize in transforming the way businesses manage SOC 2 compliance and audit preparations.\n",
      "\n",
      "In today's regulatory landscape, ensuring compliance can be both time-consuming and complex. Our AI-powered SaaS tool streamlines the process, enabling your team to focus on what they do best while we handle the intricacies of compliance management. \n",
      "\n",
      "Key benefits of our solution include:\n",
      "\n",
      "- **Automated Documentation**: Rapidly generate and maintain compliance documentation, reducing manual effort and risk of errors.\n",
      "- **Real-time Monitoring**: Stay updated with continuous compliance checks and alerts, ensuring you're always audit-ready.\n",
      "- **Seamless Collaboration**: Enable cross-functional teams to work together effortlessly, promoting transparency and accountability.\n",
      "\n",
      "I would love the opportunity to discuss how ComplAI can help your organization navigate SOC 2 compliance more efficiently. Are you available for a brief call next week?\n",
      "\n",
      "Thank you for considering this opportunity. I look forward to the possibility of working together.\n",
      "\n",
      "Best regards,\n",
      "\n",
      "[Your Name]  \n",
      "[Your Job Title]  \n",
      "ComplAI  \n",
      "[Your Phone Number]  \n",
      "[Your Email Address]  \n",
      "[Website URL]  \n",
      "\n",
      "\n",
      "Subject: Is Your SOC2 Compliance as Ready as Your Morning Coffee? ☕️\n",
      "\n",
      "Hi [First Name],\n",
      "\n",
      "I hope this email finds you swimming in a sea of productivity! I know you’re busy making waves, so I’ll keep this short and sweet—like that last slice of pizza everyone fights over.\n",
      "\n",
      "As an expert in the SOC2 compliance game (think of us as the calm in the compliance storm), we at ComplAI know that preparing for audits can feel like trying to solve a Rubik's cube blindfolded. 🎲\n",
      "\n",
      "What if I told you that leveraging our AI-powered SaaS tool could transform that chaotic compliance process into a smooth ride? Imagine summer road trips with your favorite playlist—no bumps, just vibes. 🎶\n",
      "\n",
      "With ComplAI, you’ll enjoy:\n",
      "- A streamlined compliance process that keeps audits at bay (like your favorite superhero)\n",
      "- Real-time insights that will keep you in the know (and out of the dark)\n",
      "- A friendly AI assistant that might just become your new best friend 😉\n",
      "\n",
      "Let’s chat! I promise it’ll be more fun than a meeting about meetings. How’s [suggest a time or simply say “this week”] looking for you?\n",
      "\n",
      "Wishing you a compliance journey as seamless as your favorite pair of loafers. 🥇\n",
      "\n",
      "Best,\n",
      "[Your Name]  \n",
      "[Your Job Title]  \n",
      "ComplAI  \n",
      "[Your Phone Number]  \n",
      "[Your LinkedIn Profile]  \n",
      "\n",
      "P.S. Are you ready to say goodbye to audit anxiety? Let’s make it happen!\n",
      "\n",
      "\n",
      "Subject: Simplify Your SOC 2 Compliance Process\n",
      "\n",
      "Hi [Recipient's Name],\n",
      "\n",
      "I’m [Your Name] from ComplAI. We help companies like yours seamlessly navigate SOC 2 compliance with our AI-powered SaaS tool.\n",
      "\n",
      "Would you be open to a quick chat about how we can streamline your compliance efforts and prepare you for audits? \n",
      "\n",
      "Looking forward to your thoughts!\n",
      "\n",
      "Best,  \n",
      "[Your Name]  \n",
      "[Your Position]  \n",
      "ComplAI  \n",
      "[Your Phone Number]  \n",
      "[Your LinkedIn URL]  \n",
      "\n",
      "\n"
     ]
    }
   ],
   "source": [
    "import asyncio\n",
    "from agents import Runner, trace\n",
    "message = \"Write a cold sales email\"\n",
    "\n",
    "with trace(\"Parallel cold emails\"):\n",
    "    results = await asyncio.gather(\n",
    "        Runner.run(sales_agent1, message),\n",
    "        Runner.run(sales_agent2, message),\n",
    "        Runner.run(sales_agent3, message),\n",
    "    )\n",
    "\n",
    "outputs = [result.final_output for result in results]\n",
    "\n",
    "for output in outputs:\n",
    "    print(output + \"\\n\\n\")\n"
   ]
  },
  {
   "cell_type": "code",
   "execution_count": 37,
   "id": "9052821c",
   "metadata": {},
   "outputs": [],
   "source": [
    "sales_picker = Agent(\n",
    "    name=\"sales_picker\",\n",
    "    instructions=\"You pick the best cold sales email from the given options. \\\n",
    "Imagine you are a customer and pick the one you are most likely to respond to. \\\n",
    "Do not give an explanation; reply with the selected email only.\",\n",
    "    model=\"gpt-4o-mini\"\n",
    ")"
   ]
  },
  {
   "cell_type": "code",
   "execution_count": 38,
   "id": "943c1445",
   "metadata": {},
   "outputs": [
    {
     "name": "stdout",
     "output_type": "stream",
     "text": [
      "Best sales email:\n",
      "Subject: Let’s Make Compliance as Easy as Pie (Without the Crust)!\n",
      "\n",
      "Hi [Recipient's Name],\n",
      "\n",
      "I hope this email finds you sipping coffee rather than drowning in a sea of compliance paperwork! Speaking of which, have you heard about ComplAI? We’re like your favorite coffee shop, but instead of brews, we serve up hassle-free SOC2 compliance and audit prep—all served hot and fresh with a side of AI!\n",
      "\n",
      "Imagine a world where audits don’t make you break out in a cold sweat. With our tool, you can:\n",
      "- **Automate** those pesky compliance tasks (goodbye, spreadsheets!)\n",
      "- Ensure you stay on top of audit requirements without wearing a detective's hat\n",
      "- Get back to the things that really matter—like perfecting your office playlist!\n",
      "\n",
      "If you’re ready to trade in the compliance chaos for a more zen experience, let’s chat! No pressure—just a couple of minutes to explore how we can help you breathe easier around audit season (and maybe even clear some time for that coffee break).\n",
      "\n",
      "Looking forward to hearing from you!\n",
      "\n",
      "Best,  \n",
      "[Your Name]  \n",
      "[Your Position] at ComplAI  \n",
      "[Your Phone Number]  \n",
      "[Your Website]  \n",
      "\n",
      "P.S. I make a mean cup of coffee if you ever want to chat in person!\n"
     ]
    }
   ],
   "source": [
    "message = \"Write a cold sales email\"\n",
    "\n",
    "with trace(\"Selection from sales people\"):\n",
    "    results = await asyncio.gather(\n",
    "        Runner.run(sales_agent1, message),\n",
    "        Runner.run(sales_agent2, message),\n",
    "        Runner.run(sales_agent3, message),\n",
    "    )\n",
    "    outputs = [result.final_output for result in results]\n",
    "\n",
    "    emails = \"Cold sales emails:\\n\\n\".join(outputs)\n",
    "\n",
    "    best = await Runner.run(sales_picker, emails)\n",
    "\n",
    "    print(f\"Best sales email:\\n{best.final_output}\")\n"
   ]
  },
  {
   "cell_type": "code",
   "execution_count": 43,
   "id": "d65af8db",
   "metadata": {},
   "outputs": [],
   "source": [
    "@function_tool\n",
    "def send_email(body: str):\n",
    "    \"\"\" Send out an email with the given body to all sales prospects \"\"\"\n",
    "    sg = sendgrid.SendGridAPIClient(api_key=os.environ.get('SENDGRID_API_KEY'))\n",
    "    from_email = Email(\"cenghanbayram35@gmail.com\")  # Change to your verified sender\n",
    "    to_email = To(\"200316066@ogr.cbu.edu.tr\")  # Change to your recipient\n",
    "    content = Content(\"text/plain\", body)\n",
    "    mail = Mail(from_email, to_email, \"Sales email\", content).get()\n",
    "    response = sg.client.mail.send.post(request_body=mail)\n",
    "    return {\"status\": \"success\"}"
   ]
  },
  {
   "cell_type": "code",
   "execution_count": 44,
   "id": "37cb22f4",
   "metadata": {},
   "outputs": [
    {
     "data": {
      "text/plain": [
       "FunctionTool(name='sales_agent1', description='Write a cold sales email', params_json_schema={'properties': {'input': {'title': 'Input', 'type': 'string'}}, 'required': ['input'], 'title': 'sales_agent1_args', 'type': 'object', 'additionalProperties': False}, on_invoke_tool=<function function_tool.<locals>._create_function_tool.<locals>._on_invoke_tool at 0x00000234C93C8A40>, strict_json_schema=True, is_enabled=True)"
      ]
     },
     "execution_count": 44,
     "metadata": {},
     "output_type": "execute_result"
    }
   ],
   "source": [
    "tool1 = sales_agent1.as_tool(tool_name=\"sales_agent1\", tool_description=\"Write a cold sales email\")\n",
    "tool1"
   ]
  },
  {
   "cell_type": "code",
   "execution_count": 45,
   "id": "158a39cf",
   "metadata": {},
   "outputs": [
    {
     "data": {
      "text/plain": [
       "[FunctionTool(name='sales_agent1', description='Write a cold sales email', params_json_schema={'properties': {'input': {'title': 'Input', 'type': 'string'}}, 'required': ['input'], 'title': 'sales_agent1_args', 'type': 'object', 'additionalProperties': False}, on_invoke_tool=<function function_tool.<locals>._create_function_tool.<locals>._on_invoke_tool at 0x00000234C589FEC0>, strict_json_schema=True, is_enabled=True),\n",
       " FunctionTool(name='sales_agent2', description='Write a cold sales email', params_json_schema={'properties': {'input': {'title': 'Input', 'type': 'string'}}, 'required': ['input'], 'title': 'sales_agent2_args', 'type': 'object', 'additionalProperties': False}, on_invoke_tool=<function function_tool.<locals>._create_function_tool.<locals>._on_invoke_tool at 0x00000234C8F3B4C0>, strict_json_schema=True, is_enabled=True),\n",
       " FunctionTool(name='sales_agent3', description='Write a cold sales email', params_json_schema={'properties': {'input': {'title': 'Input', 'type': 'string'}}, 'required': ['input'], 'title': 'sales_agent3_args', 'type': 'object', 'additionalProperties': False}, on_invoke_tool=<function function_tool.<locals>._create_function_tool.<locals>._on_invoke_tool at 0x00000234C58BFBA0>, strict_json_schema=True, is_enabled=True),\n",
       " FunctionTool(name='send_email', description='Send out an email with the given body to all sales prospects', params_json_schema={'properties': {'body': {'title': 'Body', 'type': 'string'}}, 'required': ['body'], 'title': 'send_email_args', 'type': 'object', 'additionalProperties': False}, on_invoke_tool=<function function_tool.<locals>._create_function_tool.<locals>._on_invoke_tool at 0x00000234C8F3A340>, strict_json_schema=True, is_enabled=True)]"
      ]
     },
     "execution_count": 45,
     "metadata": {},
     "output_type": "execute_result"
    }
   ],
   "source": [
    "description = \"Write a cold sales email\"\n",
    "\n",
    "tool1 = sales_agent1.as_tool(tool_name=\"sales_agent1\", tool_description=description)\n",
    "tool2 = sales_agent2.as_tool(tool_name=\"sales_agent2\", tool_description=description)\n",
    "tool3 = sales_agent3.as_tool(tool_name=\"sales_agent3\", tool_description=description)\n",
    "\n",
    "tools = [tool1, tool2, tool3, send_email]\n",
    "\n",
    "tools"
   ]
  },
  {
   "cell_type": "code",
   "execution_count": 46,
   "id": "0c31917f",
   "metadata": {},
   "outputs": [],
   "source": [
    "instructions =\"You are a sales manager working for ComplAI. You use the tools given to you to generate cold sales emails. \\\n",
    "You never generate sales emails yourself; you always use the tools. \\\n",
    "You try all 3 sales_agent tools once before choosing the best one. \\\n",
    "You pick the single best email and use the send_email tool to send the best email (and only the best email) to the user.\"\n",
    "\n",
    "\n",
    "sales_manager = Agent(name=\"Sales Manager\", instructions=instructions, tools=tools, model=\"gpt-4o-mini\")\n",
    "\n",
    "message = \"Send a cold sales email addressed to 'Dear CEO'\"\n",
    "\n",
    "with trace(\"Sales manager\"):\n",
    "    result = await Runner.run(sales_manager, message)"
   ]
  },
  {
   "cell_type": "code",
   "execution_count": null,
   "id": "7a253ffc",
   "metadata": {},
   "outputs": [],
   "source": []
  }
 ],
 "metadata": {
  "kernelspec": {
   "display_name": "agents",
   "language": "python",
   "name": "python3"
  },
  "language_info": {
   "codemirror_mode": {
    "name": "ipython",
    "version": 3
   },
   "file_extension": ".py",
   "mimetype": "text/x-python",
   "name": "python",
   "nbconvert_exporter": "python",
   "pygments_lexer": "ipython3",
   "version": "3.12.4"
  }
 },
 "nbformat": 4,
 "nbformat_minor": 5
}
